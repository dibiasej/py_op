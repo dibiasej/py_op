{
 "cells": [
  {
   "cell_type": "markdown",
   "metadata": {},
   "source": [
    "# Before Adding to the Project We Test Code In Here"
   ]
  },
  {
   "cell_type": "markdown",
   "metadata": {},
   "source": [
    "### Below we have a factory method for our analytical option price calcs"
   ]
  },
  {
   "cell_type": "code",
   "execution_count": 1,
   "metadata": {},
   "outputs": [],
   "source": [
    "class AnalyticalFactory:\n",
    "    @staticmethod\n",
    "    def create_model(model_name):\n",
    "        if model_name == 'Bachelier':\n",
    "            return BachelierAnalytical\n",
    "        elif model_name == 'BlackScholesMerton':\n",
    "            return BlackScholesMertonAnalytical\n",
    "        elif model_name == 'CEV':\n",
    "            return CEVAnalytical\n",
    "        else:\n",
    "            raise ValueError(f\"Unknown model name: {model_name}\")"
   ]
  },
  {
   "cell_type": "markdown",
   "metadata": {},
   "source": [
    "## Jeff Augen Price Change STD DEV chart"
   ]
  },
  {
   "cell_type": "code",
   "execution_count": 93,
   "metadata": {},
   "outputs": [],
   "source": [
    "import numpy as np\n",
    "import matplotlib.pyplot as plt\n",
    "from datetime import datetime\n",
    "\n",
    "from price_data.process_price_data import get_close_prices"
   ]
  },
  {
   "cell_type": "code",
   "execution_count": 105,
   "metadata": {},
   "outputs": [
    {
     "data": {
      "text/plain": [
       "304.113525390625"
      ]
     },
     "execution_count": 105,
     "metadata": {},
     "output_type": "execute_result"
    }
   ],
   "source": [
    "close_prices = get_close_prices(\"SPY\", \"2020-01-01\", \"2024-04-01\")\n",
    "close_prices"
   ]
  },
  {
   "cell_type": "code",
   "execution_count": 103,
   "metadata": {},
   "outputs": [
    {
     "data": {
      "text/plain": [
       "DatetimeIndex(['2020-01-02 00:00:00-05:00', '2020-01-03 00:00:00-05:00',\n",
       "               '2020-01-06 00:00:00-05:00', '2020-01-07 00:00:00-05:00',\n",
       "               '2020-01-08 00:00:00-05:00', '2020-01-09 00:00:00-05:00',\n",
       "               '2020-01-10 00:00:00-05:00', '2020-01-13 00:00:00-05:00',\n",
       "               '2020-01-14 00:00:00-05:00', '2020-01-15 00:00:00-05:00',\n",
       "               ...\n",
       "               '2024-03-15 00:00:00-04:00', '2024-03-18 00:00:00-04:00',\n",
       "               '2024-03-19 00:00:00-04:00', '2024-03-20 00:00:00-04:00',\n",
       "               '2024-03-21 00:00:00-04:00', '2024-03-22 00:00:00-04:00',\n",
       "               '2024-03-25 00:00:00-04:00', '2024-03-26 00:00:00-04:00',\n",
       "               '2024-03-27 00:00:00-04:00', '2024-03-28 00:00:00-04:00'],\n",
       "              dtype='datetime64[ns, America/New_York]', name='Date', length=1067, freq=None)"
      ]
     },
     "execution_count": 103,
     "metadata": {},
     "output_type": "execute_result"
    }
   ],
   "source": [
    "close_price_index = close_prices.index\n",
    "close_price_index"
   ]
  },
  {
   "cell_type": "code",
   "execution_count": 99,
   "metadata": {},
   "outputs": [
    {
     "name": "stdout",
     "output_type": "stream",
     "text": [
      "2020-01-02 00:00:00-05:00\n"
     ]
    },
    {
     "ename": "TypeError",
     "evalue": "fromisoformat: argument must be str",
     "output_type": "error",
     "traceback": [
      "\u001b[1;31m---------------------------------------------------------------------------\u001b[0m",
      "\u001b[1;31mTypeError\u001b[0m                                 Traceback (most recent call last)",
      "Cell \u001b[1;32mIn[99], line 4\u001b[0m\n\u001b[0;32m      1\u001b[0m \u001b[38;5;28;01mfor\u001b[39;00m i \u001b[38;5;129;01min\u001b[39;00m close_price_index:\n\u001b[0;32m      2\u001b[0m     \u001b[38;5;28mprint\u001b[39m(i)\n\u001b[1;32m----> 4\u001b[0m     parsed_date \u001b[38;5;241m=\u001b[39m \u001b[43mdatetime\u001b[49m\u001b[38;5;241;43m.\u001b[39;49m\u001b[43mfromisoformat\u001b[49m\u001b[43m(\u001b[49m\u001b[43mi\u001b[49m\u001b[43m)\u001b[49m\n\u001b[0;32m      6\u001b[0m     \u001b[38;5;66;03m# Format the date to YYYY-MM-DD\u001b[39;00m\n\u001b[0;32m      7\u001b[0m     formatted_date \u001b[38;5;241m=\u001b[39m parsed_date\u001b[38;5;241m.\u001b[39mstrftime(\u001b[38;5;124m'\u001b[39m\u001b[38;5;124m%\u001b[39m\u001b[38;5;124mY-\u001b[39m\u001b[38;5;124m%\u001b[39m\u001b[38;5;124mm-\u001b[39m\u001b[38;5;132;01m%d\u001b[39;00m\u001b[38;5;124m'\u001b[39m)\n",
      "\u001b[1;31mTypeError\u001b[0m: fromisoformat: argument must be str"
     ]
    }
   ],
   "source": [
    "for i in close_price_index:\n",
    "    print(i)\n",
    "\n",
    "    parsed_date = datetime.fromisoformat(i)\n",
    "\n",
    "    # Format the date to YYYY-MM-DD\n",
    "    formatted_date = parsed_date.strftime('%Y-%m-%d')\n",
    "    print(formatted_date)"
   ]
  },
  {
   "cell_type": "code",
   "execution_count": 65,
   "metadata": {},
   "outputs": [
    {
     "data": {
      "text/plain": [
       "[6.148601525421245, -0.03909995160356921, 0.3990475534886701]"
      ]
     },
     "execution_count": 65,
     "metadata": {},
     "output_type": "execute_result"
    }
   ],
   "source": [
    "# jeff augen data\n",
    "prices_ja = np.array([\n",
    "    47.58, 47.78, 48.09, 47.52, 48.47, 48.38, 49.30, 49.61, \n",
    "    50.03, 51.65, 51.65, 51.57, 50.60, 50.45, 50.83, 51.08, \n",
    "    51.26, 50.89, 50.51, 51.42, 52.09, 55.83, 55.79, 56.20\n",
    "])\n",
    "\n",
    "ln_price = np.log(prices_ja[1:] / prices_ja[:-1])\n",
    "price_change = prices_ja[1:] - prices_ja[:-1]\n",
    "\n",
    "std_list = []\n",
    "one_std_chng_list = []\n",
    "current_spike_list = []\n",
    "\n",
    "for i in range(len(ln_price)):\n",
    "    \n",
    "    if 20 + i == len(ln_price):\n",
    "        break\n",
    "\n",
    "    std_pr = ln_price[i:20 + i].std()\n",
    "    std_list.append(std_pr)\n",
    "\n",
    "    one_std_chng = prices_ja[20 + i] * std_pr\n",
    "    one_std_chng_list.append(one_std_chng)\n",
    "\n",
    "    current_spike = price_change[20 + i] / one_std_chng\n",
    "    current_spike_list.append(current_spike)\n",
    "current_spike_list\n"
   ]
  },
  {
   "cell_type": "code",
   "execution_count": 110,
   "metadata": {},
   "outputs": [],
   "source": [
    "def price_spikes(historical_price_data):\n",
    "\n",
    "    historical_prices = historical_price_data.to_numpy()\n",
    "    close_price_index = historical_price_data.index\n",
    "\n",
    "    ln_price = np.log(historical_prices[1:] / historical_prices[:-1])\n",
    "    price_change = historical_prices[1:] - historical_prices[:-1]\n",
    "\n",
    "    std_list = []\n",
    "    one_std_chng_list = []\n",
    "    current_spike_list = []\n",
    "    date_list = []\n",
    "\n",
    "    for i in range(len(ln_price)):\n",
    "        \n",
    "        if 20 + i == len(ln_price):\n",
    "            break\n",
    "\n",
    "        std_pr = ln_price[i:20 + i].std()\n",
    "        std_list.append(std_pr)\n",
    "\n",
    "        one_std_chng = historical_prices[20 + i] * std_pr\n",
    "        one_std_chng_list.append(one_std_chng)\n",
    "\n",
    "        current_spike = price_change[20 + i] / one_std_chng\n",
    "        current_spike_list.append(current_spike)\n",
    "        date_list.append(close_price_index[20 + i])\n",
    "\n",
    "    return np.array(current_spike_list), date_list"
   ]
  },
  {
   "cell_type": "code",
   "execution_count": 111,
   "metadata": {},
   "outputs": [
    {
     "data": {
      "text/plain": [
       "array([ 1.00526082,  2.06218646,  1.43548149, ..., -0.32063087,\n",
       "        1.44756743, -0.03202311])"
      ]
     },
     "execution_count": 111,
     "metadata": {},
     "output_type": "execute_result"
    }
   ],
   "source": [
    "spikes, dates = price_spikes(close_prices)\n",
    "spikes"
   ]
  },
  {
   "cell_type": "code",
   "execution_count": 112,
   "metadata": {},
   "outputs": [
    {
     "data": {
      "text/plain": [
       "<BarContainer object of 1046 artists>"
      ]
     },
     "execution_count": 112,
     "metadata": {},
     "output_type": "execute_result"
    },
    {
     "data": {
      "image/png": "[encoded data removed]",
      "text/plain": [
       "<Figure size 640x480 with 1 Axes>"
      ]
     },
     "metadata": {},
     "output_type": "display_data"
    }
   ],
   "source": [
    "plt.bar(dates, spikes)"
   ]
  },
  {
   "cell_type": "markdown",
   "metadata": {},
   "source": [
    "## Option Back Test"
   ]
  },
  {
   "cell_type": "code",
   "execution_count": 19,
   "metadata": {},
   "outputs": [],
   "source": [
    "import os\n",
    "import sys\n",
    "import numpy as np"
   ]
  },
  {
   "cell_type": "code",
   "execution_count": 2,
   "metadata": {},
   "outputs": [],
   "source": [
    "data_folder_path = os.path.join(os.getcwd(), 'option_data')\n",
    "sys.path.append(data_folder_path)"
   ]
  },
  {
   "cell_type": "code",
   "execution_count": 3,
   "metadata": {},
   "outputs": [],
   "source": [
    "from option_data import OptionFactory\n",
    "import utils"
   ]
  },
  {
   "cell_type": "code",
   "execution_count": 4,
   "metadata": {},
   "outputs": [],
   "source": [
    "start_date: str = \"2024-02-05\"\n",
    "end_date: str = '2024-03-22'\n",
    "ticker: str = \"META\"\n",
    "expiration: str = '2024-03-22'\n",
    "K: int = 460"
   ]
  },
  {
   "cell_type": "code",
   "execution_count": 5,
   "metadata": {},
   "outputs": [],
   "source": [
    "def historical_option_price(ticker: str, K: int, start_date: str, end_date: str, expiration: str, option_style: str = \"european\", option_type: str = \"call\") -> list[float]:\n",
    "\n",
    "    close_dates: list[str] = utils.option_date_range(start_date, end_date)\n",
    "\n",
    "    meta_option_price_list: list[int] = []\n",
    "\n",
    "    for close_date in close_dates:\n",
    "        option_price: float = OptionFactory().create_option(ticker, K, expiration, close_date, option_style, option_type).get_price()\n",
    "        meta_option_price_list.append(option_price)\n",
    "\n",
    "    return meta_option_price_list, close_dates"
   ]
  },
  {
   "cell_type": "code",
   "execution_count": 25,
   "metadata": {},
   "outputs": [],
   "source": [
    "import matplotlib.pyplot as plt\n",
    "\n",
    "def plot_option_price(x: list[str], y: list[float]):\n",
    "\n",
    "    plt.figure()\n",
    "    plt.plot(x, y)\n",
    "    plt.xticks(rotation=60)\n",
    "    plt.xlabel(\"Close Date\")\n",
    "    plt.ylabel(\"Option Price\")\n",
    "    plt.show()"
   ]
  },
  {
   "cell_type": "code",
   "execution_count": 32,
   "metadata": {},
   "outputs": [],
   "source": [
    "ticker = \"SPY\"\n",
    "start_date = \"2024-02-15\"\n",
    "end_date = \"2024-04-15\"\n",
    "expiration = \"2024-04-19\"\n",
    "K1 = 500\n",
    "K2 = 510\n",
    "\n",
    "spy_call_k1, dates1 = historical_option_price(ticker, K1, start_date, end_date, expiration)\n",
    "spy_call_k2, dates2 = historical_option_price(ticker, K2, start_date, end_date, expiration)"
   ]
  },
  {
   "cell_type": "code",
   "execution_count": 36,
   "metadata": {},
   "outputs": [],
   "source": [
    "call_spread = np.array(spy_call_k1) - np.array(spy_call_k2)"
   ]
  },
  {
   "cell_type": "code",
   "execution_count": 37,
   "metadata": {},
   "outputs": [
    {
     "data": {
      "image/png": "[encoded data removed]",
      "text/plain": [
       "<Figure size 640x480 with 1 Axes>"
      ]
     },
     "metadata": {},
     "output_type": "display_data"
    }
   ],
   "source": [
    "plot_option_price(dates1, call_spread)"
   ]
  },
  {
   "cell_type": "markdown",
   "metadata": {},
   "source": [
    "## Option Position"
   ]
  },
  {
   "cell_type": "code",
   "execution_count": 127,
   "metadata": {},
   "outputs": [],
   "source": [
    "import numpy as np\n",
    "import matplotlib.pyplot as plt\n",
    "\n",
    "from option_data import historical_option_prices\n",
    "from option_data import OptionFactory\n",
    "from calc_engine.option_pricing import analytical_solutions as ans"
   ]
  },
  {
   "cell_type": "code",
   "execution_count": 130,
   "metadata": {},
   "outputs": [
    {
     "name": "stdout",
     "output_type": "stream",
     "text": [
      "dte 64\n"
     ]
    },
    {
     "data": {
      "text/plain": [
       "11.016004061566335"
      ]
     },
     "execution_count": 130,
     "metadata": {},
     "output_type": "execute_result"
    }
   ],
   "source": [
    "spy_node = OptionFactory().create_option(\"SPY\", 510, \"2024-04-19\", \"2024-02-15\")\n",
    "spy_node.get_implied_volatility()\n",
    "spy_node.get_dte()\n",
    "bsm_price = ans.bsm_call(100, 100, .5, .4, .02, 0)\n",
    "bsm_price"
   ]
  },
  {
   "cell_type": "code",
   "execution_count": null,
   "metadata": {},
   "outputs": [],
   "source": [
    "\n",
    "\n",
    "class Positions:\n",
    "\n",
    "    def __init__(self, ticker: str, strike: int, expiration: str):\n",
    "        self._ticker: str = ticker\n",
    "        self._strike: int = strike\n",
    "        self._expiration: str = expiration\n",
    "\n",
    "    def payoff(self):\n",
    "        return None\n",
    "\n",
    "    def back_test(self):\n",
    "        return None"
   ]
  },
  {
   "cell_type": "markdown",
   "metadata": {},
   "source": [
    "## Option Pricing"
   ]
  },
  {
   "cell_type": "code",
   "execution_count": 50,
   "metadata": {},
   "outputs": [],
   "source": [
    "def monte_carlo_simulation_bs(S0, M, I, T, sigma, r) -> list:\n",
    "\n",
    "    if T > 1:\n",
    "        T /= 252\n",
    "    dt = T / M\n",
    "    S = np.zeros((M + 1, I))\n",
    "    S[0] = S0\n",
    "    rn = np.random.standard_normal(S.shape)\n",
    "    for t in range(1, M + 1):   # 1\n",
    "        S[t] = S[t-1] * np.exp((r - sigma ** 2 / 2) * dt + sigma * np.sqrt(dt) * rn[t])  # 2\n",
    "    #return S\n",
    "    return rn\n",
    "\n",
    "def mc_call_price(S0, K, M, I, T, sigma, r) -> float:\n",
    "    \n",
    "    S: list = monte_carlo_simulation(S0, M, I, T, sigma, r)\n",
    "    return np.exp(-r * T) * np.maximum(S[-1] - K, 0).mean()\n",
    "\n",
    "rn = monte_carlo_simulation_bs(100, 5, 10, 1/2, .2, .02)"
   ]
  },
  {
   "cell_type": "code",
   "execution_count": null,
   "metadata": {},
   "outputs": [],
   "source": [
    "import math\n",
    "import numpy as np\n",
    "from scipy.integrate import quad\n",
    "\n",
    "\n",
    "def M76_call_value(mar_env):\n",
    "    ''' Valuation of European call option in M76 model via Lewis (2001)\n",
    "    Fourier-based approach.\n",
    "\n",
    "    Parameters\n",
    "    ==========\n",
    "    initial_value : float\n",
    "        initial stock/index level\n",
    "    strike : float\n",
    "        strike price\n",
    "    maturity : datetime object\n",
    "        time-to-maturity (for t=0)\n",
    "    short_rate : float\n",
    "        constant risk-free short rate\n",
    "    volatility : float\n",
    "        volatility factor diffusion term\n",
    "    lamb : float\n",
    "        jump intensity\n",
    "    mu : float\n",
    "        expected jump size\n",
    "    delta : float\n",
    "        standard deviation of jump\n",
    "\n",
    "    Returns\n",
    "    =======\n",
    "    call_value: float\n",
    "        present value of European call option\n",
    "    '''\n",
    "\n",
    "    try:\n",
    "        S0 = mar_env.get_constant('initial_value')\n",
    "        K = mar_env.get_constant('strike')\n",
    "        T = (mar_env.get_constant('maturity') -\n",
    "             mar_env.pricing_date).days / 365.\n",
    "        r = mar_env.get_curve('discount_curve').short_rate\n",
    "        lamb = mar_env.get_constant('lambda')\n",
    "        mu = mar_env.get_constant('mu')\n",
    "        delta = mar_env.get_constant('delta')\n",
    "        volatility = mar_env.get_constant('volatility')\n",
    "    except:\n",
    "        print('Error parsing market environment.')\n",
    "\n",
    "    int_value = quad(lambda u:\n",
    "                     M76_int_func_sa(\n",
    "                         u, S0, K, T, r, volatility, lamb, mu, delta),\n",
    "                     0, np.inf, limit=250)[0]\n",
    "    call_value = max(0, S0 - np.exp(-r * T) * np.sqrt(S0 * K) /\n",
    "                     np.pi * int_value)\n",
    "    return call_value\n",
    "\n",
    "\n",
    "def M76_put_value(mar_env):\n",
    "    ''' Valuation of European put option in M76 model via Lewis (2001)\n",
    "    Fourier-based approach. '''\n",
    "\n",
    "    try:\n",
    "        S0 = mar_env.get_constant('initial_value')\n",
    "        K = mar_env.get_constant('strike')\n",
    "        T = (mar_env.get_constant('maturity') -\n",
    "             mar_env.pricing_date).days / 365.\n",
    "        r = mar_env.get_curve('discount_curve').short_rate\n",
    "    except:\n",
    "        print('Error parsing market environment.')\n",
    "\n",
    "    call_value = M76_call_value(mar_env)\n",
    "    put_value = call_value + K * math.exp(-r * T) - S0\n",
    "    return put_value\n",
    "\n",
    "\n",
    "def M76_int_func_sa(u, S0, K, T, r, volatility, lamb, mu, delta):\n",
    "    ''' Valuation of European call option in M76 model via Lewis (2001)\n",
    "    Fourier-based approach: integration function.\n",
    "\n",
    "    Parameter definitions see function M76_call_value.'''\n",
    "    char_func_value = M76_char_func_sa(u - 0.5 * 1j, T, r, volatility,\n",
    "                                       lamb, mu, delta)\n",
    "    int_func_value = 1 / (u ** 2 + 0.25) \\\n",
    "        * (np.exp(1j * u * np.log(S0 / K)) * char_func_value).real\n",
    "    return int_func_value\n",
    "\n",
    "\n",
    "def M76_char_func_sa(u, T, r, volatility, lamb, mu, delta):\n",
    "    ''' Valuation of European call option in M76 model via Lewis (2001)\n",
    "    Fourier-based approach: characteristic function 'jump component'.\n",
    "\n",
    "    Parameter definitions see function M76_call_value.'''\n",
    "    omega = r - 0.5 * volatility ** 2 \\\n",
    "        - lamb * (np.exp(mu + 0.5 * delta ** 2) - 1)\n",
    "    char_func_value = np.exp((1j * u * omega -\n",
    "                              0.5 * u ** 2 * volatility ** 2 +\n",
    "                              lamb * (np.exp(1j * u * mu -\n",
    "                              u ** 2 * delta ** 2 * 0.5) - 1)) * T)\n",
    "    return char_func_value"
   ]
  },
  {
   "cell_type": "code",
   "execution_count": 117,
   "metadata": {},
   "outputs": [
    {
     "ename": "TypeError",
     "evalue": "quad() missing 1 required positional argument: 'func'",
     "output_type": "error",
     "traceback": [
      "\u001b[1;31m---------------------------------------------------------------------------\u001b[0m",
      "\u001b[1;31mTypeError\u001b[0m                                 Traceback (most recent call last)",
      "Cell \u001b[1;32mIn[117], line 2\u001b[0m\n\u001b[0;32m      1\u001b[0m \u001b[38;5;28;01mfrom\u001b[39;00m \u001b[38;5;21;01mscipy\u001b[39;00m\u001b[38;5;21;01m.\u001b[39;00m\u001b[38;5;21;01mintegrate\u001b[39;00m \u001b[38;5;28;01mimport\u001b[39;00m quad\n\u001b[1;32m----> 2\u001b[0m val \u001b[38;5;241m=\u001b[39m \u001b[43mquad\u001b[49m\u001b[43m(\u001b[49m\u001b[43ma\u001b[49m\u001b[43m \u001b[49m\u001b[38;5;241;43m=\u001b[39;49m\u001b[43m \u001b[49m\u001b[38;5;241;43m2\u001b[39;49m\u001b[43m,\u001b[49m\u001b[43m \u001b[49m\u001b[43mb\u001b[49m\u001b[43m \u001b[49m\u001b[38;5;241;43m=\u001b[39;49m\u001b[43m \u001b[49m\u001b[38;5;241;43m4\u001b[39;49m\u001b[43m)\u001b[49m\n\u001b[0;32m      3\u001b[0m val\n",
      "\u001b[1;31mTypeError\u001b[0m: quad() missing 1 required positional argument: 'func'"
     ]
    }
   ],
   "source": [
    "from scipy.integrate import quad\n",
    "val = quad(a = 2, b = 4, func = )\n",
    "val"
   ]
  },
  {
   "cell_type": "code",
   "execution_count": 126,
   "metadata": {},
   "outputs": [
    {
     "data": {
      "text/plain": [
       "18.606650657913292"
      ]
     },
     "execution_count": 126,
     "metadata": {},
     "output_type": "execute_result"
    }
   ],
   "source": [
    "def m7_stoch_jump_call_func(S0, K, T, r, volatility, lamb, mu, delta):\n",
    "\n",
    "    def integer_function(u, S0, K, T, r, volatility, lamb, mu, delta):\n",
    "        omega = r - 0.5 * volatility ** 2 - lamb * (np.exp(mu + 0.5 * delta ** 2) - 1)\n",
    "        char_func_value = np.exp((1j * u * omega - 0.5 * u ** 2 * volatility ** 2 + lamb * (np.exp(1j * u * mu - u ** 2 * delta ** 2 * 0.5) - 1)) * T)\n",
    "        int_func_value = 1 / (u ** 2 + 0.25) * (np.exp(1j * u * np.log(S0 / K)) * char_func_value).real\n",
    "        return int_func_value\n",
    "\n",
    "    int_value = quad(lambda u:\n",
    "                     integer_function(\n",
    "                         u, S0, K, T, r, volatility, lamb, mu, delta),\n",
    "                     0, np.inf, limit=250)[0]\n",
    "    call_value = max(0, S0 - np.exp(-r * T) * np.sqrt(S0 * K) /\n",
    "                     np.pi * int_value)\n",
    "    return call_value\n",
    "\n",
    "m7_stoch_jump_call_func(100, 103, .5, .02, .2, .6, .8, .1)"
   ]
  }
 ],
 "metadata": {
  "kernelspec": {
   "display_name": "projects",
   "language": "python",
   "name": "python3"
  },
  "language_info": {
   "codemirror_mode": {
    "name": "ipython",
    "version": 3
   },
   "file_extension": ".py",
   "mimetype": "text/x-python",
   "name": "python",
   "nbconvert_exporter": "python",
   "pygments_lexer": "ipython3",
   "version": "3.9.13"
  }
 },
 "nbformat": 4,
 "nbformat_minor": 2
}
