{
 "cells": [
  {
   "cell_type": "markdown",
   "metadata": {},
   "source": [
    "# Streamlit stuff\n"
   ]
  },
  {
   "cell_type": "markdown",
   "metadata": {},
   "source": [
    "### Pop up window"
   ]
  },
  {
   "cell_type": "code",
   "execution_count": null,
   "metadata": {},
   "outputs": [],
   "source": [
    "@st.dialog(\"Add Position\")\n",
    "def add_position():\n",
    "    if st.button(\"Option\"):\n",
    "        S = st.number_input(\"Spot\")\n",
    "        K = st.number_input(\"Strike\")\n",
    "        sigma = st.number_input(\"Sigma\")\n",
    "        T = st.number_input(\"DTE\")\n",
    "    \n",
    "    elif st.button(\"Stock\"):\n",
    "        S = st.number_input(\"Spot\")"
   ]
  },
  {
   "cell_type": "code",
   "execution_count": null,
   "metadata": {},
   "outputs": [],
   "source": [
    "if st.button(f\"Remove Position {i+1}\"):\n",
    "    st.session_state[\"positions\"].remove(pos)\n",
    "    continue"
   ]
  },
  {
   "cell_type": "code",
   "execution_count": null,
   "metadata": {},
   "outputs": [],
   "source": [
    "from position_analysis.positions import Portfolio\n",
    "import streamlit as st\n",
    "\n",
    "def add_position():\n",
    "    \"\"\"Adds a new position to the session state.\"\"\"\n",
    "    pos_id = len(st.session_state[\"positions\"]) + 1\n",
    "    st.session_state[\"positions\"].append(pos_id)\n",
    "    st.session_state[\"selected_position\"][pos_id] = None  # No type selected yet\n",
    "\n",
    "def select_stock(pos_id):\n",
    "    \"\"\"Marks a position as a Stock.\"\"\"\n",
    "    st.session_state[\"selected_position\"][pos_id] = \"Stock\"\n",
    "\n",
    "def select_option(pos_id):\n",
    "    \"\"\"Marks a position as an Option.\"\"\"\n",
    "    st.session_state[\"selected_position\"][pos_id] = \"Option\"\n",
    "\n",
    "def main():\n",
    "\n",
    "    if \"positions\" not in st.session_state:\n",
    "        st.session_state[\"positions\"] = []\n",
    "\n",
    "    if \"selected_position\" not in st.session_state:\n",
    "        st.session_state[\"selected_position\"] = {}\n",
    "\n",
    "    portfolio = Portfolio()\n",
    "    st.button(\"Add Position\", on_click=add_position)\n",
    "\n",
    "    for i, pos_id in enumerate(st.session_state[\"positions\"]):\n",
    "        with st.container():\n",
    "            st.write(f\"### Position {pos_id}\")\n",
    "\n",
    "            # Stock & Option buttons in the same row\n",
    "            col1, col2 = st.columns(2)\n",
    "            with col1:\n",
    "                st.button(\"Stock\", key=f\"stock_{pos_id}\", on_click=select_stock, args=(pos_id,))\n",
    "            with col2:\n",
    "                st.button(\"Option\", key=f\"option_{pos_id}\", on_click=select_option, args=(pos_id,))\n",
    "\n",
    "            # Check which position type was selected and display corresponding inputs\n",
    "            selected_type = st.session_state[\"selected_position\"].get(pos_id)\n",
    "\n",
    "            if selected_type == \"Stock\":\n",
    "                col1, col2, col3 = st.columns(3)\n",
    "                with col1:\n",
    "                    ticker = st.text_input(f\"Stock Ticker {pos_id}\", key=f\"ticker_{pos_id}\")\n",
    "                with col2:\n",
    "                    stock_price = st.number_input(f\"Stock Price {pos_id}\", key=f\"stock_price_{pos_id}\")\n",
    "                with col3:\n",
    "                    quantity = st.number_input(f\"Quantity {pos_id}\", min_value=1, key=f\"quantity_{pos_id}\")\n",
    "                \n",
    "                # Store in portfolio (optional)\n",
    "                portfolio.add_stock_position(stock_price, quantity)\n",
    "\n",
    "            elif selected_type == \"Option\":\n",
    "                col1, col2, col3, col4, col5, col6, col7, col8, col9 = st.columns(9)\n",
    "                with col1:\n",
    "                    ticker = st.text_input(f\"Ticker {pos_id}\", key=f\"ticker_{pos_id}\")\n",
    "                with col2:\n",
    "                    spot_price = st.number_input(f\"Spot {pos_id}\", key=f\"spot_{pos_id}\")\n",
    "                with col3:\n",
    "                    quantity = st.number_input(f\"Quantity {pos_id}\", min_value=1, key=f\"quantity_{pos_id}\")\n",
    "                with col4:\n",
    "                    K = st.number_input(f\"Strike {pos_id}\", key=f\"strike_{pos_id}\")\n",
    "                with col5:\n",
    "                    sigma = st.number_input(f\"Sigma {pos_id}\", key=f\"sigma_{pos_id}\")\n",
    "                with col6:\n",
    "                    T = st.number_input(f\"DTE {pos_id}\", key=f\"dte_{pos_id}\")\n",
    "                with col7:\n",
    "                    r = st.number_input(f\"r {pos_id}\", key=f\"r_{pos_id}\")\n",
    "                with col8:\n",
    "                    q = st.number_input(f\"q {pos_id}\", key=f\"q_{pos_id}\")\n",
    "                with col9:\n",
    "                    otype = st.selectbox(f\"Type {pos_id}\", [\"Call\", \"Put\"], key=f\"otype_{pos_id}\")\n",
    "\n",
    "                # Store in portfolio (optional)\n",
    "                portfolio.add_option_position(None, spot_price, K, T, sigma, r, otype, q, quantity)\n",
    "\n",
    "    if len(portfolio.positions) == 0:\n",
    "        pass\n",
    "\n",
    "    else:\n",
    "        for position in portfolio.positions:\n",
    "            st.write(position)\n",
    "\n",
    "if __name__ == \"__main__\":\n",
    "    main()\n"
   ]
  },
  {
   "cell_type": "code",
   "execution_count": 3,
   "metadata": {},
   "outputs": [],
   "source": [
    "import pyez_stats as ez\n",
    "from data.price_data.process_price_data import get_log_rets"
   ]
  },
  {
   "cell_type": "code",
   "execution_count": 4,
   "metadata": {},
   "outputs": [],
   "source": [
    "spy_rets = get_log_rets(\"SPY\", \"2020-01-01\", \"2021-01-01\")\n",
    "vix_rets = get_log_rets(\"^VIX\", \"2020-01-01\", \"2021-01-01\")"
   ]
  },
  {
   "cell_type": "code",
   "execution_count": 6,
   "metadata": {},
   "outputs": [
    {
     "name": "stdout",
     "output_type": "stream",
     "text": [
      "------------------------\n",
      "Regression Statistics\n",
      "------------------------\n",
      "Correlation        -0.735\n",
      "R Square           0.540\n",
      "Adjusted R Square  0.538\n",
      "Standard Error     0.060\n",
      "Observations       252\n",
      "------------------------\n",
      "\n",
      "ANOVA\n",
      "---------------------------------------------------------------------\n",
      "Source         df         SS         MS          F     Significance F\n",
      "---------------------------------------------------------------------\n",
      "Regression      1      1.058      1.058    293.775      0.00000000000\n",
      "Residual      250      0.900      0.004\n",
      "Total         251      1.958\n",
      "---------------------------------------------------------------------\n",
      "\n",
      "----------------------------------------------------------------------------------------------------\n",
      "Source               Coefficients   Standard Error    t stat   P-value      Lower 95%      Upper 95%\n",
      "----------------------------------------------------------------------------------------------------\n",
      "Intercept                  0.0043           0.0038    1.1411    0.2549        -0.0031         0.0118\n",
      "Slope (X variable)        -3.0576           0.1784  -17.1399    0.0000        -3.4090        -2.7063\n",
      "----------------------------------------------------------------------------------------------------\n",
      "\n"
     ]
    },
    {
     "data": {
      "image/png": "[encoded data removed]",
      "text/plain": [
       "<Figure size 1300x600 with 2 Axes>"
      ]
     },
     "metadata": {},
     "output_type": "display_data"
    },
    {
     "data": {
      "text/plain": [
       "'Finished'"
      ]
     },
     "execution_count": 6,
     "metadata": {},
     "output_type": "execute_result"
    }
   ],
   "source": [
    "lin_reg = ez.LinearRegression(spy_rets, vix_rets)\n",
    "lin_reg()"
   ]
  },
  {
   "cell_type": "markdown",
   "metadata": {},
   "source": [
    "# Working with data processor"
   ]
  },
  {
   "cell_type": "code",
   "execution_count": 30,
   "metadata": {},
   "outputs": [],
   "source": [
    "from data_processor.option_data_processor import OptionDataProcessor\n",
    "import matplotlib.pyplot as plt"
   ]
  },
  {
   "cell_type": "code",
   "execution_count": 29,
   "metadata": {},
   "outputs": [
    {
     "data": {
      "text/plain": [
       "dict_keys(['2025-02-07', '2025-02-14', '2025-02-21', '2025-02-28', '2025-03-07', '2025-03-14', '2025-03-21', '2025-04-17', '2025-05-16', '2025-06-20', '2025-07-18', '2025-08-15', '2025-09-19', '2025-10-17', '2025-12-19', '2026-01-16', '2026-03-20', '2026-06-18', '2026-12-18', '2027-01-15', '2027-06-17'])"
      ]
     },
     "execution_count": 29,
     "metadata": {},
     "output_type": "execute_result"
    }
   ],
   "source": [
    "aapl_processor = OptionDataProcessor(\"AAPL\", \"2025-02-03\")\n",
    "aapl_processor.option_call_graph.get_expirations()"
   ]
  },
  {
   "cell_type": "code",
   "execution_count": 33,
   "metadata": {},
   "outputs": [
    {
     "data": {
      "text/plain": [
       "(100.0,\n",
       " 105.0,\n",
       " 115.0,\n",
       " 130.0,\n",
       " 135.0,\n",
       " 140.0,\n",
       " 145.0,\n",
       " 150.0,\n",
       " 155.0,\n",
       " 160.0,\n",
       " 165.0,\n",
       " 170.0,\n",
       " 175.0,\n",
       " 180.0,\n",
       " 185.0,\n",
       " 190.0,\n",
       " 195.0,\n",
       " 200.0,\n",
       " 205.0,\n",
       " 210.0,\n",
       " 215.0,\n",
       " 220.0,\n",
       " 225.0,\n",
       " 230.0,\n",
       " 235.0,\n",
       " 240.0,\n",
       " 245.0,\n",
       " 250.0,\n",
       " 255.0,\n",
       " 260.0,\n",
       " 265.0,\n",
       " 270.0,\n",
       " 275.0,\n",
       " 280.0,\n",
       " 290.0,\n",
       " 295.0,\n",
       " 300.0,\n",
       " 320.0)"
      ]
     },
     "execution_count": 33,
     "metadata": {},
     "output_type": "execute_result"
    }
   ],
   "source": [
    "strikes, prices, ivs = zip(*aapl_processor.otm_put_call_data('2025-05-16'))\n",
    "\n",
    "#plt.plot(strikes, ivs, 'o')\n",
    "strikes"
   ]
  },
  {
   "cell_type": "markdown",
   "metadata": {},
   "source": [
    "# Working with leetcode"
   ]
  },
  {
   "cell_type": "code",
   "execution_count": 19,
   "metadata": {},
   "outputs": [],
   "source": [
    "class TreeNode:\n",
    "    def __init__(self, val=0, left=None, right=None):\n",
    "        self.val = val\n",
    "        self.left = left\n",
    "        self.right = right\n",
    "\n",
    "class Node:\n",
    "    def __init__(self, data = None, next = None):\n",
    "        self.data = data\n",
    "        self.next = next"
   ]
  },
  {
   "cell_type": "code",
   "execution_count": 104,
   "metadata": {},
   "outputs": [],
   "source": [
    "from collections import deque\n",
    "import heapq\n",
    "\n",
    "arr = [5, 3, 6, 3, 22, 8, 9, 78]\n",
    "arr_sort = sorted(arr)\n",
    "\n",
    "graph = [[1, 2, 0],\n",
    "         [0, 1, 2],\n",
    "         [1, 1, 2]]\n",
    "\n",
    "root = TreeNode(3)\n",
    "root.left = TreeNode(9)\n",
    "root.right = TreeNode(20, TreeNode(15, TreeNode(111, TreeNode(5))), TreeNode(7, TreeNode(10)))"
   ]
  },
  {
   "cell_type": "code",
   "execution_count": 21,
   "metadata": {},
   "outputs": [
    {
     "name": "stdout",
     "output_type": "stream",
     "text": [
      "0 -> 1 -> 2 -> 3 -> 4 -> 5 -> 6 -> 7 -> 8 -> 9 -> None\n"
     ]
    }
   ],
   "source": [
    "class LinkedList:\n",
    "    def __init__(self, data=None):\n",
    "        self.head = Node(data) if data is not None else None\n",
    "\n",
    "    def append(self, data):\n",
    "        new_node = Node(data)\n",
    "        if not self.head:  # Empty list\n",
    "            self.head = new_node\n",
    "            return\n",
    "        curr = self.head\n",
    "        while curr.next:\n",
    "            curr = curr.next\n",
    "        curr.next = new_node\n",
    "\n",
    "    def print_list(self):\n",
    "        curr = self.head\n",
    "        while curr:\n",
    "            print(curr.data, end=\" -> \")\n",
    "            curr = curr.next\n",
    "        print(\"None\")\n",
    "\n",
    "llist = LinkedList(0)\n",
    "\n",
    "# Append 1 through 9\n",
    "for i in range(1, 10):\n",
    "    llist.append(i)\n",
    "\n",
    "# Print the list\n",
    "llist.print_list()"
   ]
  },
  {
   "cell_type": "code",
   "execution_count": null,
   "metadata": {},
   "outputs": [
    {
     "data": {
      "text/plain": [
       "[[3], [9, 20], [15, 7], [111, 10], [5]]"
      ]
     },
     "execution_count": 105,
     "metadata": {},
     "output_type": "execute_result"
    }
   ],
   "source": [
    "def level_order(root):\n",
    "    if not root:\n",
    "        return []\n",
    "    queue = deque([root])\n",
    "    level = [[root.val]]\n",
    "    temp = deque()\n",
    "    while queue:\n",
    "        node = queue.popleft()\n",
    "        if node.left: temp.append(node.left)\n",
    "        if node.right: temp.append(node.right)\n",
    "        if not queue:\n",
    "            if temp:\n",
    "                level.append([n.val for n in temp])\n",
    "            queue = temp\n",
    "            temp = deque()\n",
    "    return level\n",
    "\n",
    "def permute(nums):\n",
    "    res = []\n",
    "    def backtrack(path, used):\n",
    "        if len(path) == len(nums):\n",
    "            res.append(path[:])  # make a copy\n",
    "            return\n",
    "        for i in range(len(nums)):\n",
    "            if used[i]:\n",
    "                continue\n",
    "            used[i] = True\n",
    "            path.append(nums[i])\n",
    "            backtrack(path, used)\n",
    "            path.pop()\n",
    "            used[i] = False  # backtrack\n",
    "    used = [False] * len(nums)\n",
    "    backtrack([], used)\n",
    "    return res\n"
   ]
  }
 ],
 "metadata": {
  "kernelspec": {
   "display_name": "Python 3",
   "language": "python",
   "name": "python3"
  },
  "language_info": {
   "codemirror_mode": {
    "name": "ipython",
    "version": 3
   },
   "file_extension": ".py",
   "mimetype": "text/x-python",
   "name": "python",
   "nbconvert_exporter": "python",
   "pygments_lexer": "ipython3",
   "version": "3.11.5"
  }
 },
 "nbformat": 4,
 "nbformat_minor": 2
}
